{
 "cells": [
  {
   "cell_type": "markdown",
   "metadata": {},
   "source": [
    "# Landsat Data Exploration"
   ]
  },
  {
   "cell_type": "markdown",
   "metadata": {},
   "source": [
    "### Notes\n",
    "\n",
    "Useful Links:\n",
    "* http://www.sciencedirect.com/science/article/pii/S0034425700001693 (paper on change detection)\n",
    "* https://spectraldifferences.wordpress.com/2014/05/27/arcsi/ (atmospheric correction using Py6s)\n",
    "* https://landsat.gsfc.nasa.gov/landsat-and-the-private-tech-sector-direct-and-complementary-uses-of-imagery/ (landsat spatial and spectral performances)\n",
    "* http://data.globalforestwatch.org/datasets/38d73f7882724318baf2be8bc2cd260a_8?orderByFields=st_area(shape)+ASC&geometry=-136.157%2C-23.484%2C-9.595%2C2.196 (Peru mining concession data)\n",
    "* https://earthexplorer.usgs.gov/ (preferred site for Landsat data)\n"
   ]
  },
  {
   "cell_type": "markdown",
   "metadata": {},
   "source": [
    "## Reading in Landsat Data"
   ]
  },
  {
   "cell_type": "markdown",
   "metadata": {},
   "source": [
    "After doing some inital exploration of the Peru mining concessions data using the KML file on the site referenced above a particular study site was selected (Yanacocha mine, to the North of Cajamarca, Peru; https://goo.gl/maps/4tjEK2X5Dws).  This site comprises a very large mining complex with numerous apparently active excavations.  It appears to be a good place to start to gain an initial understanding of how mines evolve through time in the context of satellite imaging.  A total of 6 mostly cloud free scenes (< 10 % cloud cover) containing the ROI (path: 9; row: 65) were obtained from EarthExplorer, covering the time period July 2013 to November 2016 at roughly 6 month intervals.\n",
    "\n",
    "In this section we know explore how to read in the raw landsat digital numbers from the L1B files."
   ]
  },
  {
   "cell_type": "code",
   "execution_count": null,
   "metadata": {
    "collapsed": true
   },
   "outputs": [],
   "source": []
  },
  {
   "cell_type": "markdown",
   "metadata": {},
   "source": [
    "## Atmospherically Correcting Landsat Data"
   ]
  },
  {
   "cell_type": "markdown",
   "metadata": {},
   "source": [
    "## Visualising a Single Scene"
   ]
  },
  {
   "cell_type": "markdown",
   "metadata": {},
   "source": [
    "## Visualising a Time Series"
   ]
  },
  {
   "cell_type": "markdown",
   "metadata": {},
   "source": [
    "## Bringing it all Together"
   ]
  },
  {
   "cell_type": "code",
   "execution_count": null,
   "metadata": {
    "collapsed": true
   },
   "outputs": [],
   "source": []
  }
 ],
 "metadata": {
  "anaconda-cloud": {},
  "kernelspec": {
   "display_name": "Python [conda root]",
   "language": "python",
   "name": "conda-root-py"
  },
  "language_info": {
   "codemirror_mode": {
    "name": "ipython",
    "version": 2
   },
   "file_extension": ".py",
   "mimetype": "text/x-python",
   "name": "python",
   "nbconvert_exporter": "python",
   "pygments_lexer": "ipython2",
   "version": "2.7.12"
  }
 },
 "nbformat": 4,
 "nbformat_minor": 1
}
