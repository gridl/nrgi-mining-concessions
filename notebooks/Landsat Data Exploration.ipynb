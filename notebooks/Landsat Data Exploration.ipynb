{
 "cells": [
  {
   "cell_type": "markdown",
   "metadata": {},
   "source": [
    "# Landsat Data Exploration"
   ]
  },
  {
   "cell_type": "markdown",
   "metadata": {},
   "source": [
    "### Notes\n",
    "\n",
    "Useful Links:\n",
    "* http://www.sciencedirect.com/science/article/pii/S0034425700001693 (paper on change detection)\n",
    "* https://spectraldifferences.wordpress.com/2014/05/27/arcsi/ (atmospheric correction using Py6s)\n",
    "* https://landsat.gsfc.nasa.gov/landsat-and-the-private-tech-sector-direct-and-complementary-uses-of-imagery/ (landsat spatial and spectral performances)\n",
    "* http://data.globalforestwatch.org/datasets/38d73f7882724318baf2be8bc2cd260a_8?orderByFields=st_area(shape)+ASC&geometry=-136.157%2C-23.484%2C-9.595%2C2.196 (Peru mining concession data)\n",
    "* https://earthexplorer.usgs.gov/ (preferred site for Landsat data)\n"
   ]
  },
  {
   "cell_type": "markdown",
   "metadata": {},
   "source": [
    "## Reading in Landsat Data"
   ]
  },
  {
   "cell_type": "markdown",
   "metadata": {},
   "source": [
    "After doing some inital exploration of the Peru mining concessions data using the KML file on the site referenced above a particular study site was selected (Yanacocha mine, to the North of Cajamarca, Peru; https://goo.gl/maps/4tjEK2X5Dws).  This site comprises a very large mining complex with numerous apparently active excavations.  It appears to be a good place to start to gain an initial understanding of how mines evolve through time in the context of satellite imaging.  A total of 6 mostly cloud free scenes (< 10 % cloud cover) containing the ROI (path: 9; row: 65) were obtained from EarthExplorer, covering the time period July 2013 to November 2016 at roughly 6 month intervals.\n",
    "\n",
    "In this section we know explore how to read in the raw landsat digital numbers from the L1B files."
   ]
  },
  {
   "cell_type": "code",
   "execution_count": 4,
   "metadata": {
    "collapsed": false
   },
   "outputs": [],
   "source": [
    "from osgeo import gdal\n",
    "from pyproj import Proj\n",
    "\n",
    "import os \n",
    "\n",
    "class LandsatReader(object):\n",
    "\n",
    "    def __init__(self,\n",
    "                 landsat_root,\n",
    "                 line_sample_roi=None):\n",
    "        self.root = landsat_root\n",
    "        self.lsr = line_sample_roi\n",
    "        self.dn_data_container = dict()\n",
    "\n",
    "    def _get_file_list(self, data_file):\n",
    "        files = os.listdir(os.path.join(self.root, data_file))\n",
    "        self.file_list = [os.path.join(self.root, data_file, f)\n",
    "                          for f in files if \"TIF\" in f if \"BQA\" not in f if \"B8\" not in f]\n",
    "\n",
    "    def _read_arrays(self):\n",
    "        for f in self.file_list:\n",
    "            if \"B\" in f[-6:]:\n",
    "                data_key = self._get_container_key_a(f)\n",
    "            else:\n",
    "                data_key = self._get_container_key_b(f)\n",
    "            gdal.UseExceptions()\n",
    "            ds = gdal.Open(f)\n",
    "            self.dn_data_container[data_key] = self._extract_roi(ds)\n",
    "\n",
    "    def _get_container_key_a(self, f):\n",
    "        return re.search('B([0-9])', f).group()\n",
    "\n",
    "    # fix this later\n",
    "    def _get_container_key_b(self, f):\n",
    "        return re.search('B([1][0-1])', f).group()\n",
    "\n",
    "    def _extract_roi(self, ds):\n",
    "        return ds.GetRasterBand(1).ReadAsArray(self.lsr['x1'],\n",
    "                                               self.lsr['y1'],\n",
    "                                               self.lsr['x2'] - self.lsr['x1'],\n",
    "                                               self.lsr['y2'] - self.lsr['y1'])\n",
    "\n",
    "    def read(self, data_file):\n",
    "        self._get_file_list(data_file)\n",
    "        self._read_arrays()\n",
    "\n",
    "\n",
    "class LandsatGeoReader(object):\n",
    "    \n",
    "    def __init__(self,\n",
    "                 landsat_root,\n",
    "                 proj_param,\n",
    "                 line_sample_roi=None):\n",
    "        self.root = landsat_root\n",
    "        self.proj_param = proj_param\n",
    "        self.lsr = line_sample_roi\n",
    "        self.geo_data_container = dict()\n",
    "\n",
    "    def _get_file(self, data_file):\n",
    "        files = os.listdir(os.path.join(self.root, data_file))\n",
    "        self.f = [os.path.join(self.root, data_file, f) for f in files if \"B2\" in f][0]\n",
    "\n",
    "    def _read_geo(self):\n",
    "        gdal.UseExceptions()\n",
    "        ds = gdal.Open(self.f)\n",
    "        gt = self._get_transform(ds)\n",
    "        grids = self._construct_grids()\n",
    "        self.compute_geo(gt, grids)\n",
    "\n",
    "    def _get_transform(self, ds):\n",
    "        return ds.GetGeoTransform()\n",
    "\n",
    "    def _construct_grids(self):\n",
    "        # create grid the size of the image\n",
    "        x = np.arange(self.lsr['x1'], self.lsr['x2'], 1)\n",
    "        y = np.arange(self.lsr['y1'], self.lsr['y2'], 1)\n",
    "        return np.meshgrid(x, y)\n",
    "\n",
    "    def compute_geo(self, gt, grids):\n",
    "        # compute eastings and northings\n",
    "        x = gt[0] + grids[0] * gt[1] + grids[1] * gt[2]\n",
    "        y = gt[3] + grids[0] * gt[4] + grids[1] * gt[5]\n",
    "\n",
    "        # convert to wgs84\n",
    "        # even for s. hem landsat image assign n. hem proj\n",
    "        # see: http://gis.stackexchange.com/questions/9831/southern-hemisphere-projections-for-landsat-upsets-grass\n",
    "\n",
    "        #landsat_39N = Proj(\"+init=EPSG:32639\")  # Iraq\n",
    "        #landsat_32N = Proj(\"+init=EPSG:32632\")  # Angola\n",
    "        #landsat_15N = Proj(\"+init=EPSG:32615\")   # Tobasco\n",
    "        landsat_proj = Proj(self.proj_param)\n",
    "        lon, lat = landsat_proj(x, y, inverse=True)\n",
    "        self.geo_data_container['lon'] = lon\n",
    "        self.geo_data_container['lat'] = lat\n",
    "\n",
    "    def _extract_roi(self, ds):\n",
    "        return ds.GetRasterBand(1).ReadAsArray(self.lsr['x1'],\n",
    "                                               self.lsr['y1'],\n",
    "                                               self.lsr['x2'] - self.lsr['x1'],\n",
    "                                               self.lsr['y2'] - self.lsr['y1'])\n",
    "\n",
    "    def read(self, data_file):\n",
    "        self._get_file(data_file)\n",
    "        self._read_geo()\n",
    "\n",
    "\n",
    "class LandsatMetaReader(object):\n",
    "\n",
    "    def __init__(self,\n",
    "                 landsat_root,\n",
    "                 srf_path=''):\n",
    "        self.root = landsat_root\n",
    "        self.meta_data_container = dict()\n",
    "        self._centre_wavelengths()\n",
    "\n",
    "        if srf_path:\n",
    "            self.srf_path = srf_path\n",
    "            self._spectral_response_functions()\n",
    "\n",
    "    def _centre_wavelengths(self):\n",
    "        d = dict()\n",
    "        keys = [\"B1\", \"B2\", \"B3\", \"B4\", \"B5\", \"B6\", \"B7\", \"B9\"]\n",
    "        values = [0.443, 0.482, 0.561, 0.655, 0.865, 1.609, 2.201, 1.373]  # microns\n",
    "        for k, v in zip(keys, values):\n",
    "            d[k] = v\n",
    "        self.meta_data_container[\"centre_wavelengths\"] = d\n",
    "\n",
    "    def _spectral_response_functions(self):\n",
    "        srf_dict = dict()\n",
    "        for f in os.listdir(self.srf_path):\n",
    "            if \"_\" in f:\n",
    "                continue\n",
    "            srf = self._read_srf(self.srf_path+f)\n",
    "            f = f.split(\".\")\n",
    "            srf_dict[f[0]] = srf\n",
    "        self.meta_data_container['srf'] = srf_dict\n",
    "\n",
    "    def _read_srf(self, srf_path):\n",
    "        wvls = np.genfromtxt(srf_path, usecols=(0), delimiter='', dtype=float) / 1000  # convert to microns\n",
    "        rsps = np.genfromtxt(srf_path, usecols=(1), delimiter='', dtype=float)\n",
    "        srf = {}\n",
    "        srf[\"wavelengths\"] = wvls\n",
    "        srf[\"responses\"] = rsps\n",
    "        return srf\n",
    "\n",
    "    def _get_file(self, data_file):\n",
    "        files = os.listdir(os.path.join(self.root, data_file))\n",
    "        self.f = [os.path.join(self.root, data_file, f) for f in files if \"txt\" in f][0]\n",
    "\n",
    "    def _read_meta(self):\n",
    "        with open(self.f) as f:\n",
    "            for line in f:\n",
    "                listedline = line.strip().split(' = ')  # split around the = sign\n",
    "                if len(listedline) > 1:  # we have the = sign in there\n",
    "                    self.meta_data_container[listedline[0]] = listedline[1]\n",
    "\n",
    "    def read(self, data_file):\n",
    "        self._get_file(data_file)\n",
    "        self._read_meta()"
   ]
  },
  {
   "cell_type": "code",
   "execution_count": null,
   "metadata": {
    "collapsed": true
   },
   "outputs": [],
   "source": [
    "class ProcessParameters(object):\n",
    "    def __init__(self):\n",
    "        # file paths\n",
    "        # root_path = '/Volumes/INTENSO/data/KCL/KCL-seviri-flares/data/'\n",
    "        # root_path = \"/media/daniel/INTENSO1/data/KCL/KCL-seviri-flares/data/\"\n",
    "        root_path = \"/Users/dnf/Projects_main/KCL/KCL-seviri-flares/data/\"\n",
    "\n",
    "\n",
    "        self.landsat_path = root_path + \"landsat/paper_data/iraq/l1b/\"\n",
    "        self.landsat_proj_param = \"+init=EPSG:32639\"\n",
    "        self.landsat_df_csv = root_path + \"landsat/paper_d\n",
    "\n",
    "self.landsat_proj_param = \"+init=EPSG:32639\"\n",
    "\n",
    "\n",
    "image_data_obj = readers.LandsatReader(pp.landsat_path, pp.landsat_pixel_roi)\n",
    "geo_data_obj = readers.LandsatGeoReader(pp.landsat_path, pp.landsat_proj_param, pp.landsat_pixel_roi)\n",
    "meta_data_obj = readers.LandsatMetaReader(pp.landsat_path)"
   ]
  },
  {
   "cell_type": "markdown",
   "metadata": {},
   "source": [
    "## Atmospherically Correcting Landsat Data"
   ]
  },
  {
   "cell_type": "markdown",
   "metadata": {},
   "source": [
    "## Visualising a Single Scene"
   ]
  },
  {
   "cell_type": "markdown",
   "metadata": {},
   "source": [
    "## Visualising a Time Series"
   ]
  },
  {
   "cell_type": "markdown",
   "metadata": {},
   "source": [
    "## Bringing it all Together"
   ]
  },
  {
   "cell_type": "code",
   "execution_count": null,
   "metadata": {
    "collapsed": true
   },
   "outputs": [],
   "source": []
  }
 ],
 "metadata": {
  "anaconda-cloud": {},
  "kernelspec": {
   "display_name": "Python [conda root]",
   "language": "python",
   "name": "conda-root-py"
  },
  "language_info": {
   "codemirror_mode": {
    "name": "ipython",
    "version": 2
   },
   "file_extension": ".py",
   "mimetype": "text/x-python",
   "name": "python",
   "nbconvert_exporter": "python",
   "pygments_lexer": "ipython2",
   "version": "2.7.12"
  }
 },
 "nbformat": 4,
 "nbformat_minor": 1
}
